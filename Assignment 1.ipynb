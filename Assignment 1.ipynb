{
 "cells": [
  {
   "cell_type": "code",
   "execution_count": 1,
   "metadata": {
    "collapsed": true
   },
   "outputs": [],
   "source": [
    "import numpy as np"
   ]
  },
  {
   "cell_type": "code",
   "execution_count": 121,
   "metadata": {
    "collapsed": false
   },
   "outputs": [],
   "source": [
    "class NeuralNetwork(object):\n",
    "    def __init__(self):\n",
    "        self.inputLayerSize = 3\n",
    "        self.hiddenLayerSize = 3\n",
    "        self.outputLayerSize = 1\n",
    "        \n",
    "        self.w1 = np.random.randn(self.inputLayerSize, self.hiddenLayerSize)\n",
    "        self.w2 = np.random.randn(self.hiddenLayerSize, self.outputLayerSize)\n",
    "        print self.w1\n",
    "        print self.w2\n",
    "        \n",
    "    def forward(self, x):\n",
    "        self.net1 = np.dot(x, self.w1)\n",
    "        self.z2   = self.sigmoid(self.net1)\n",
    "        self.net2 = np.dot(self.z2, self.w2)\n",
    "        output    = self.sigmoid(self.net2)\n",
    "        return output\n",
    "    \n",
    "    def sigmoid(self, x):\n",
    "        return (1./(1+np.exp(-x)))\n",
    "    \n",
    "    def sigmoidDifferentiation(self, x):\n",
    "        return (self.sigmoid(x)*(1. - self.sigmoid(x)))\n",
    "    \n",
    "    def gradientDescend(self, x, target, stepSize, threshold):\n",
    "        \n",
    "        self.output = self.forward(x)\n",
    "        error = self.calcError(target, self.output)\n",
    "        \n",
    "        itr = 0\n",
    "        while(error > threshold):\n",
    "            # Calculate delta Error\n",
    "            delta2 = np.multiply(-(target - self.output), self.sigmoidDifferentiation(self.net2))\n",
    "            dEdW2 = np.dot(self.z2.T, delta2)\n",
    "\n",
    "            delta1 = np.dot(delta2, self.w2.T)*self.sigmoidDifferentiation(self.net1)\n",
    "            dEdW1 = np.dot(x.T, delta1)\n",
    "\n",
    "            # Update Weights\n",
    "            self.w1 -= stepSize*dEdW1\n",
    "            self.w2 -= stepSize*dEdW2\n",
    "\n",
    "            self.output = self.forward(x)\n",
    "            error = self.calcError(target, self.output)\n",
    "            \n",
    "            # Checking whether log likelihood is increasing\n",
    "            if itr <= 15 or (itr <= 100 and itr % 10 == 0) or (itr <= 1000 and itr % 100 == 0) \\\n",
    "            or (itr <= 10000 and itr % 1000 == 0) or itr % 10000 == 0:\n",
    "                print 'iteration %d: error = %f' %(itr, error)\n",
    "            itr += 1\n",
    "            \n",
    "            \n",
    "    def calcError(self, target, output):\n",
    "        return 0.5 * sum((target - output)**2)"
   ]
  },
  {
   "cell_type": "code",
   "execution_count": 5,
   "metadata": {
    "collapsed": true
   },
   "outputs": [],
   "source": [
    "inputs = np.array([[0,0,0],[0,0,1],[0,1,0],[0,1,1],[1,0,0],[1,0,1],[1,1,0],[1,1,1]])"
   ]
  },
  {
   "cell_type": "code",
   "execution_count": 6,
   "metadata": {
    "collapsed": false
   },
   "outputs": [
    {
     "name": "stdout",
     "output_type": "stream",
     "text": [
      "[[0 0 0]\n",
      " [0 0 1]\n",
      " [0 1 0]\n",
      " [0 1 1]\n",
      " [1 0 0]\n",
      " [1 0 1]\n",
      " [1 1 0]\n",
      " [1 1 1]]\n"
     ]
    }
   ],
   "source": [
    "print inputs"
   ]
  },
  {
   "cell_type": "code",
   "execution_count": 47,
   "metadata": {
    "collapsed": false
   },
   "outputs": [
    {
     "name": "stdout",
     "output_type": "stream",
     "text": [
      "[[0]\n",
      " [1]\n",
      " [1]\n",
      " [0]\n",
      " [1]\n",
      " [0]\n",
      " [0]\n",
      " [1]]\n"
     ]
    }
   ],
   "source": [
    "target = np.array([[0],[1],[1],[0],[1],[0],[0],[1]])\n",
    "print target"
   ]
  },
  {
   "cell_type": "code",
   "execution_count": 127,
   "metadata": {
    "collapsed": false
   },
   "outputs": [
    {
     "name": "stdout",
     "output_type": "stream",
     "text": [
      "[[ 0.64569584  0.44616639  0.49975748]\n",
      " [ 1.63482618  1.80544271 -0.37420078]\n",
      " [-1.68873458  1.53547202  1.35908382]]\n",
      "[[ 0.37061108]\n",
      " [ 1.74058174]\n",
      " [-0.99530244]]\n"
     ]
    }
   ],
   "source": [
    "NN = NeuralNetwork()"
   ]
  },
  {
   "cell_type": "code",
   "execution_count": null,
   "metadata": {
    "collapsed": false
   },
   "outputs": [
    {
     "name": "stdout",
     "output_type": "stream",
     "text": [
      "iteration 0: error = 0.001000\n",
      "iteration 1: error = 0.001000\n",
      "iteration 2: error = 0.001000\n",
      "iteration 3: error = 0.001000\n",
      "iteration 4: error = 0.001000\n",
      "iteration 5: error = 0.001000\n",
      "iteration 6: error = 0.001000\n",
      "iteration 7: error = 0.001000\n",
      "iteration 8: error = 0.001000\n",
      "iteration 9: error = 0.001000\n",
      "iteration 10: error = 0.001000\n",
      "iteration 11: error = 0.001000\n",
      "iteration 12: error = 0.001000\n",
      "iteration 13: error = 0.001000\n",
      "iteration 14: error = 0.001000\n",
      "iteration 15: error = 0.001000\n",
      "iteration 20: error = 0.001000\n",
      "iteration 30: error = 0.001000\n",
      "iteration 40: error = 0.001000\n",
      "iteration 50: error = 0.001000\n",
      "iteration 60: error = 0.001000\n",
      "iteration 70: error = 0.001000\n",
      "iteration 80: error = 0.001000\n",
      "iteration 90: error = 0.001000\n",
      "iteration 100: error = 0.001000\n",
      "iteration 200: error = 0.000999\n",
      "iteration 300: error = 0.000999\n",
      "iteration 400: error = 0.000999\n",
      "iteration 500: error = 0.000998\n",
      "iteration 600: error = 0.000998\n",
      "iteration 700: error = 0.000998\n",
      "iteration 800: error = 0.000997\n",
      "iteration 900: error = 0.000997\n",
      "iteration 1000: error = 0.000997\n",
      "iteration 2000: error = 0.000993\n",
      "iteration 3000: error = 0.000990\n",
      "iteration 4000: error = 0.000986\n",
      "iteration 5000: error = 0.000983\n",
      "iteration 6000: error = 0.000980\n",
      "iteration 7000: error = 0.000976\n",
      "iteration 8000: error = 0.000973\n",
      "iteration 9000: error = 0.000970\n",
      "iteration 10000: error = 0.000967\n",
      "iteration 20000: error = 0.000935\n",
      "iteration 30000: error = 0.000906\n",
      "iteration 40000: error = 0.000879\n",
      "iteration 50000: error = 0.000853\n",
      "iteration 60000: error = 0.000828\n",
      "iteration 70000: error = 0.000805\n",
      "iteration 80000: error = 0.000783\n",
      "iteration 90000: error = 0.000763\n",
      "iteration 100000: error = 0.000743\n",
      "iteration 110000: error = 0.000725\n",
      "iteration 120000: error = 0.000707\n",
      "iteration 130000: error = 0.000690\n",
      "iteration 140000: error = 0.000674\n",
      "iteration 150000: error = 0.000659\n",
      "iteration 160000: error = 0.000644\n",
      "iteration 170000: error = 0.000630\n",
      "iteration 180000: error = 0.000617\n",
      "iteration 190000: error = 0.000604\n",
      "iteration 200000: error = 0.000591\n",
      "iteration 210000: error = 0.000580\n",
      "iteration 220000: error = 0.000568\n",
      "iteration 230000: error = 0.000557\n",
      "iteration 240000: error = 0.000547\n",
      "iteration 250000: error = 0.000537\n",
      "iteration 260000: error = 0.000527\n",
      "iteration 270000: error = 0.000518\n",
      "iteration 280000: error = 0.000508\n",
      "iteration 290000: error = 0.000500\n",
      "iteration 300000: error = 0.000491\n",
      "iteration 310000: error = 0.000483\n",
      "iteration 320000: error = 0.000475\n",
      "iteration 330000: error = 0.000467\n",
      "iteration 340000: error = 0.000460\n",
      "iteration 350000: error = 0.000453\n",
      "iteration 360000: error = 0.000446\n",
      "iteration 370000: error = 0.000439\n",
      "iteration 380000: error = 0.000433\n",
      "iteration 390000: error = 0.000426\n",
      "iteration 400000: error = 0.000420\n",
      "iteration 410000: error = 0.000414\n",
      "iteration 420000: error = 0.000408\n",
      "iteration 430000: error = 0.000403\n",
      "iteration 440000: error = 0.000397\n",
      "iteration 450000: error = 0.000392\n",
      "iteration 460000: error = 0.000387\n",
      "iteration 470000: error = 0.000381\n",
      "iteration 480000: error = 0.000377\n",
      "iteration 490000: error = 0.000372\n",
      "iteration 500000: error = 0.000367\n",
      "iteration 510000: error = 0.000362\n",
      "iteration 520000: error = 0.000358\n",
      "iteration 530000: error = 0.000354\n",
      "iteration 540000: error = 0.000349\n",
      "iteration 550000: error = 0.000345\n",
      "iteration 560000: error = 0.000341\n",
      "iteration 570000: error = 0.000337\n",
      "iteration 580000: error = 0.000333\n",
      "iteration 590000: error = 0.000330\n",
      "iteration 600000: error = 0.000326\n",
      "iteration 610000: error = 0.000322\n",
      "iteration 620000: error = 0.000319\n",
      "iteration 630000: error = 0.000315\n",
      "iteration 640000: error = 0.000312\n",
      "iteration 650000: error = 0.000309\n",
      "iteration 660000: error = 0.000305\n",
      "iteration 670000: error = 0.000302\n",
      "iteration 680000: error = 0.000299\n",
      "iteration 690000: error = 0.000296\n",
      "iteration 700000: error = 0.000293\n",
      "iteration 710000: error = 0.000290\n",
      "iteration 720000: error = 0.000287\n",
      "iteration 730000: error = 0.000284\n",
      "iteration 740000: error = 0.000282\n",
      "iteration 750000: error = 0.000279\n",
      "iteration 760000: error = 0.000276\n",
      "iteration 770000: error = 0.000274\n",
      "iteration 780000: error = 0.000271\n",
      "iteration 790000: error = 0.000269\n",
      "iteration 800000: error = 0.000266\n",
      "iteration 810000: error = 0.000264\n",
      "iteration 820000: error = 0.000261\n",
      "iteration 830000: error = 0.000259\n",
      "iteration 840000: error = 0.000257\n",
      "iteration 850000: error = 0.000255\n",
      "iteration 860000: error = 0.000252\n",
      "iteration 870000: error = 0.000250\n",
      "iteration 880000: error = 0.000248\n",
      "iteration 890000: error = 0.000246\n",
      "iteration 900000: error = 0.000244\n",
      "iteration 910000: error = 0.000242\n",
      "iteration 920000: error = 0.000240\n",
      "iteration 930000: error = 0.000238\n",
      "iteration 940000: error = 0.000236\n",
      "iteration 950000: error = 0.000234\n",
      "iteration 960000: error = 0.000232\n",
      "iteration 970000: error = 0.000230\n",
      "iteration 980000: error = 0.000229\n",
      "iteration 990000: error = 0.000227\n",
      "iteration 1000000: error = 0.000225\n",
      "iteration 1010000: error = 0.000223\n",
      "iteration 1020000: error = 0.000222\n",
      "iteration 1030000: error = 0.000220\n",
      "iteration 1040000: error = 0.000218\n"
     ]
    }
   ],
   "source": [
    "NN.gradientDescend(inputs, target, 0.2, 0.0001)"
   ]
  },
  {
   "cell_type": "code",
   "execution_count": 129,
   "metadata": {
    "collapsed": false
   },
   "outputs": [
    {
     "name": "stdout",
     "output_type": "stream",
     "text": [
      "[[ 0.00921983]\n",
      " [ 0.99377714]\n",
      " [ 0.97837574]\n",
      " [ 0.00488943]\n",
      " [ 0.97837574]\n",
      " [ 0.0048895 ]\n",
      " [ 0.02949926]\n",
      " [ 0.99520102]]\n"
     ]
    }
   ],
   "source": [
    "print NN.forward(inputs)"
   ]
  },
  {
   "cell_type": "code",
   "execution_count": null,
   "metadata": {
    "collapsed": true
   },
   "outputs": [],
   "source": []
  }
 ],
 "metadata": {
  "kernelspec": {
   "display_name": "Python 2",
   "language": "python",
   "name": "python2"
  },
  "language_info": {
   "codemirror_mode": {
    "name": "ipython",
    "version": 2
   },
   "file_extension": ".py",
   "mimetype": "text/x-python",
   "name": "python",
   "nbconvert_exporter": "python",
   "pygments_lexer": "ipython2",
   "version": "2.7.12"
  }
 },
 "nbformat": 4,
 "nbformat_minor": 0
}
